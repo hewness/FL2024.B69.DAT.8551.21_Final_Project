{
  "nbformat": 4,
  "nbformat_minor": 0,
  "metadata": {
    "colab": {
      "provenance": [],
      "authorship_tag": "ABX9TyMV0pYmcZD6syp9a67517Kr",
      "include_colab_link": true
    },
    "kernelspec": {
      "name": "python3",
      "display_name": "Python 3"
    },
    "language_info": {
      "name": "python"
    }
  },
  "cells": [
    {
      "cell_type": "markdown",
      "metadata": {
        "id": "view-in-github",
        "colab_type": "text"
      },
      "source": [
        "<a href=\"https://colab.research.google.com/github/hewness/FL2024.B69.DAT.8551.21_Final_Project/blob/main/FL2024_B69_DAT_8551_21_Part_B_Data_Validation.ipynb\" target=\"_parent\"><img src=\"https://colab.research.google.com/assets/colab-badge.svg\" alt=\"Open In Colab\"/></a>"
      ]
    },
    {
      "cell_type": "markdown",
      "source": [
        "# FL2024.B69.DAT.8551.21 - Part B - Data Validation\n",
        "\n",
        "The purpose of this notebook is validate the 311 service request data that was extracted from NYC OpenData."
      ],
      "metadata": {
        "id": "NYmTPewU4WfV"
      }
    },
    {
      "cell_type": "code",
      "execution_count": null,
      "metadata": {
        "id": "RvxpwztI14OG"
      },
      "outputs": [],
      "source": [
        "import os\n",
        "import pandas as pd\n",
        "import numpy as np\n",
        "import plotly.express as px\n",
        "from datetime import datetime\n",
        "import calendar\n",
        "\n",
        "from google.colab import drive, data_table\n",
        "\n",
        "data_table.enable_dataframe_formatter()"
      ]
    },
    {
      "cell_type": "markdown",
      "source": [
        "## Mount Colab environment to Google Drive\n",
        "\n",
        "The extracted data was uploaded to Google Drive to easily import it into the Colab environment. The below mounts the drive and imports the data into a pandas dataframe."
      ],
      "metadata": {
        "id": "LKIh5MHb4t6w"
      }
    },
    {
      "cell_type": "code",
      "source": [
        "drive.mount('/content/gdrive')"
      ],
      "metadata": {
        "colab": {
          "base_uri": "https://localhost:8080/"
        },
        "id": "DGDqutti2bIj",
        "outputId": "57ad739f-ea1a-420a-cc80-1a59a1208acf"
      },
      "execution_count": null,
      "outputs": [
        {
          "output_type": "stream",
          "name": "stdout",
          "text": [
            "Mounted at /content/gdrive\n"
          ]
        }
      ]
    },
    {
      "cell_type": "code",
      "source": [
        "BASE_DATA_DIR = '/content/gdrive/MyDrive/FL2024.B69.DAT.8551.21/final_project/data'\n",
        "SERVICE_REQUESTS_FILENAME = '311_Service_Requests_2021-2023.csv'\n",
        "\n",
        "service_requests_path = os.path.join(BASE_DATA_DIR, SERVICE_REQUESTS_FILENAME)"
      ],
      "metadata": {
        "id": "DWRluxbR3_zp"
      },
      "execution_count": null,
      "outputs": []
    },
    {
      "cell_type": "code",
      "source": [
        "import dask.dataframe as dd\n",
        "\n",
        "service_requests_dd = dd.read_csv(service_requests_path, dtype={\n",
        "    \"Unique Key\": object,\n",
        "    \"Incident Zip\": object,\n",
        "    \"BBL\": object,\n",
        "    \"Bridge Highway Direction\": object,\n",
        "    \"Bridge Highway Name\": object,\n",
        "    \"Bridge Highway Segment\": object,\n",
        "    \"Due Date\": object,\n",
        "    \"Facility Type\": object,\n",
        "    \"Road Ramp\": object,\n",
        "    \"Taxi Company Borough\": object,\n",
        "    \"Taxi Pick Up Location\": object,\n",
        "    \"Vehicle Type\": object,\n",
        "    \"X Coordinate (State Plane)\": object,\n",
        "    \"Y Coordinate (State Plane)\": object,\n",
        "    \"Latitude\": object,\n",
        "    \"Longitude\": object\n",
        "})"
      ],
      "metadata": {
        "id": "B89KT6jrO2kt"
      },
      "execution_count": null,
      "outputs": []
    },
    {
      "cell_type": "markdown",
      "source": [
        "## Basic EDA Checks"
      ],
      "metadata": {
        "id": "-C_6yy6z5KW3"
      }
    },
    {
      "cell_type": "code",
      "source": [
        "data_table.DataTable(service_requests_dd.head(), max_columns=41)"
      ],
      "metadata": {
        "colab": {
          "base_uri": "https://localhost:8080/",
          "height": 610
        },
        "id": "0x8QPdvwz8Ru",
        "outputId": "89c8d572-0655-4d44-86ee-9c25a0f3bb1a"
      },
      "execution_count": null,
      "outputs": [
        {
          "output_type": "execute_result",
          "data": {
            "text/html": [
              "<div>\n",
              "<style scoped>\n",
              "    .dataframe tbody tr th:only-of-type {\n",
              "        vertical-align: middle;\n",
              "    }\n",
              "\n",
              "    .dataframe tbody tr th {\n",
              "        vertical-align: top;\n",
              "    }\n",
              "\n",
              "    .dataframe thead th {\n",
              "        text-align: right;\n",
              "    }\n",
              "</style>\n",
              "<table border=\"1\" class=\"dataframe\">\n",
              "  <thead>\n",
              "    <tr style=\"text-align: right;\">\n",
              "      <th></th>\n",
              "      <th>Unique Key</th>\n",
              "      <th>Created Date</th>\n",
              "      <th>Closed Date</th>\n",
              "      <th>Agency</th>\n",
              "      <th>Agency Name</th>\n",
              "      <th>Complaint Type</th>\n",
              "      <th>Descriptor</th>\n",
              "      <th>Location Type</th>\n",
              "      <th>Incident Zip</th>\n",
              "      <th>Incident Address</th>\n",
              "      <th>...</th>\n",
              "      <th>Vehicle Type</th>\n",
              "      <th>Taxi Company Borough</th>\n",
              "      <th>Taxi Pick Up Location</th>\n",
              "      <th>Bridge Highway Name</th>\n",
              "      <th>Bridge Highway Direction</th>\n",
              "      <th>Road Ramp</th>\n",
              "      <th>Bridge Highway Segment</th>\n",
              "      <th>Latitude</th>\n",
              "      <th>Longitude</th>\n",
              "      <th>Location</th>\n",
              "    </tr>\n",
              "  </thead>\n",
              "  <tbody>\n",
              "    <tr>\n",
              "      <th>0</th>\n",
              "      <td>59889383</td>\n",
              "      <td>12/31/2023 11:59:42 PM</td>\n",
              "      <td>01/01/2024 01:51:01 AM</td>\n",
              "      <td>NYPD</td>\n",
              "      <td>New York City Police Department</td>\n",
              "      <td>Noise - Street/Sidewalk</td>\n",
              "      <td>Loud Music/Party</td>\n",
              "      <td>Street/Sidewalk</td>\n",
              "      <td>11375</td>\n",
              "      <td>63-10 108 STREET</td>\n",
              "      <td>...</td>\n",
              "      <td>&lt;NA&gt;</td>\n",
              "      <td>&lt;NA&gt;</td>\n",
              "      <td>&lt;NA&gt;</td>\n",
              "      <td>&lt;NA&gt;</td>\n",
              "      <td>&lt;NA&gt;</td>\n",
              "      <td>&lt;NA&gt;</td>\n",
              "      <td>&lt;NA&gt;</td>\n",
              "      <td>40.734694673156454</td>\n",
              "      <td>-73.85052125577377</td>\n",
              "      <td>(40.734694673156454, -73.85052125577377)</td>\n",
              "    </tr>\n",
              "    <tr>\n",
              "      <th>1</th>\n",
              "      <td>59887573</td>\n",
              "      <td>12/31/2023 11:59:39 PM</td>\n",
              "      <td>01/19/2024 02:37:37 PM</td>\n",
              "      <td>EDC</td>\n",
              "      <td>Economic Development Corporation</td>\n",
              "      <td>Noise - Helicopter</td>\n",
              "      <td>Other</td>\n",
              "      <td>Above Address</td>\n",
              "      <td>10023</td>\n",
              "      <td>25 WEST   73 STREET</td>\n",
              "      <td>...</td>\n",
              "      <td>&lt;NA&gt;</td>\n",
              "      <td>&lt;NA&gt;</td>\n",
              "      <td>&lt;NA&gt;</td>\n",
              "      <td>&lt;NA&gt;</td>\n",
              "      <td>&lt;NA&gt;</td>\n",
              "      <td>&lt;NA&gt;</td>\n",
              "      <td>&lt;NA&gt;</td>\n",
              "      <td>40.77720102455921</td>\n",
              "      <td>-73.976158989108</td>\n",
              "      <td>(40.77720102455921, -73.976158989108)</td>\n",
              "    </tr>\n",
              "    <tr>\n",
              "      <th>2</th>\n",
              "      <td>59892892</td>\n",
              "      <td>12/31/2023 11:59:29 PM</td>\n",
              "      <td>01/01/2024 04:06:24 AM</td>\n",
              "      <td>NYPD</td>\n",
              "      <td>New York City Police Department</td>\n",
              "      <td>Blocked Driveway</td>\n",
              "      <td>Partial Access</td>\n",
              "      <td>Street/Sidewalk</td>\n",
              "      <td>11355</td>\n",
              "      <td>143-34 BARCLAY AVENUE</td>\n",
              "      <td>...</td>\n",
              "      <td>&lt;NA&gt;</td>\n",
              "      <td>&lt;NA&gt;</td>\n",
              "      <td>&lt;NA&gt;</td>\n",
              "      <td>&lt;NA&gt;</td>\n",
              "      <td>&lt;NA&gt;</td>\n",
              "      <td>&lt;NA&gt;</td>\n",
              "      <td>&lt;NA&gt;</td>\n",
              "      <td>40.759286493466355</td>\n",
              "      <td>-73.82261386696051</td>\n",
              "      <td>(40.759286493466355, -73.82261386696051)</td>\n",
              "    </tr>\n",
              "    <tr>\n",
              "      <th>3</th>\n",
              "      <td>59893860</td>\n",
              "      <td>12/31/2023 11:59:29 PM</td>\n",
              "      <td>01/01/2024 01:51:32 AM</td>\n",
              "      <td>NYPD</td>\n",
              "      <td>New York City Police Department</td>\n",
              "      <td>Noise - Street/Sidewalk</td>\n",
              "      <td>Loud Music/Party</td>\n",
              "      <td>Street/Sidewalk</td>\n",
              "      <td>11374</td>\n",
              "      <td>65-09 99 STREET</td>\n",
              "      <td>...</td>\n",
              "      <td>&lt;NA&gt;</td>\n",
              "      <td>&lt;NA&gt;</td>\n",
              "      <td>&lt;NA&gt;</td>\n",
              "      <td>&lt;NA&gt;</td>\n",
              "      <td>&lt;NA&gt;</td>\n",
              "      <td>&lt;NA&gt;</td>\n",
              "      <td>&lt;NA&gt;</td>\n",
              "      <td>40.72937885745978</td>\n",
              "      <td>-73.85543290785074</td>\n",
              "      <td>(40.72937885745978, -73.85543290785074)</td>\n",
              "    </tr>\n",
              "    <tr>\n",
              "      <th>4</th>\n",
              "      <td>59887231</td>\n",
              "      <td>12/31/2023 11:59:23 PM</td>\n",
              "      <td>01/01/2024 12:13:30 AM</td>\n",
              "      <td>NYPD</td>\n",
              "      <td>New York City Police Department</td>\n",
              "      <td>Noise - Street/Sidewalk</td>\n",
              "      <td>Loud Music/Party</td>\n",
              "      <td>Street/Sidewalk</td>\n",
              "      <td>11232</td>\n",
              "      <td>870 42 STREET</td>\n",
              "      <td>...</td>\n",
              "      <td>&lt;NA&gt;</td>\n",
              "      <td>&lt;NA&gt;</td>\n",
              "      <td>&lt;NA&gt;</td>\n",
              "      <td>&lt;NA&gt;</td>\n",
              "      <td>&lt;NA&gt;</td>\n",
              "      <td>&lt;NA&gt;</td>\n",
              "      <td>&lt;NA&gt;</td>\n",
              "      <td>40.64472479285036</td>\n",
              "      <td>-73.9976217135385</td>\n",
              "      <td>(40.64472479285036, -73.9976217135385)</td>\n",
              "    </tr>\n",
              "  </tbody>\n",
              "</table>\n",
              "<p>5 rows × 41 columns</p>\n",
              "</div>"
            ],
            "application/vnd.google.colaboratory.module+javascript": "\n      import \"https://ssl.gstatic.com/colaboratory/data_table/81954c9606dcf997/data_table.js\";\n\n      const table = window.createDataTable({\n        data: [[{\n            'v': 0,\n            'f': \"0\",\n        },\n\"59889383\",\n\"12/31/2023 11:59:42 PM\",\n\"01/01/2024 01:51:01 AM\",\n\"NYPD\",\n\"New York City Police Department\",\n\"Noise - Street/Sidewalk\",\n\"Loud Music/Party\",\n\"Street/Sidewalk\",\n\"11375\",\n\"63-10 108 STREET\",\n\"108 STREET\",\n\"63 AVENUE\",\n\"63 ROAD\",\n\"63 AVENUE\",\n\"63 ROAD\",\n\"ADDRESS\",\n\"FOREST HILLS\",\n\"108 STREET\",\n\"<NA>\",\n\"Closed\",\n\"<NA>\",\n\"The Police Department responded to the complaint and with the information available observed no evidence of the violation at that time.\",\n\"01/01/2024 01:51:05 AM\",\n\"06 QUEENS\",\n\"4021460028\",\n\"QUEENS\",\n\"1025676\",\n\"206981\",\n\"MOBILE\",\n\"Unspecified\",\n\"QUEENS\",\n\"<NA>\",\n\"<NA>\",\n\"<NA>\",\n\"<NA>\",\n\"<NA>\",\n\"<NA>\",\n\"<NA>\",\n\"40.734694673156454\",\n\"-73.85052125577377\",\n\"(40.734694673156454, -73.85052125577377)\"],\n [{\n            'v': 1,\n            'f': \"1\",\n        },\n\"59887573\",\n\"12/31/2023 11:59:39 PM\",\n\"01/19/2024 02:37:37 PM\",\n\"EDC\",\n\"Economic Development Corporation\",\n\"Noise - Helicopter\",\n\"Other\",\n\"Above Address\",\n\"10023\",\n\"25 WEST   73 STREET\",\n\"WEST   73 STREET\",\n\"CENTRAL PARK WEST\",\n\"COLUMBUS AVENUE\",\n\"CENTRAL PARK WEST\",\n\"COLUMBUS AVENUE\",\n\"ADDRESS\",\n\"NEW YORK\",\n\"WEST   73 STREET\",\n\"<NA>\",\n\"Closed\",\n\"<NA>\",\n\"The New York City Economic Development Corporation determined that this issue is not within its jurisdiction because the helicopter did not belong to a tour company departing from a NYC heliport.\\u00c2\\u00a0 Instead, it was most likely a law enforcement or news gathering helicopter not subject to the routing protocols established for tour helicopters. It may also have been a helicopter that departed as a charter or tour from another City but flew over NYC airspace. Helicopter tours originating from outside NYC are not subject to the same City regulations as tours departing from heliports managed by NYCEDC. Any City regulation of these flights is pre-empted by federal law and subject only to the jurisdiction of the Federal Aviation Administration. To file a complaint with the FAA, you can contact the New York Flight Standards District Office at the following web address:\\u00c2\\u00a0https://www.faa.gov/about/office_org/field_offices/fsdo/\",\n\"01/19/2024 02:37:41 PM\",\n\"07 MANHATTAN\",\n\"1011260014\",\n\"MANHATTAN\",\n\"990853\",\n\"222433\",\n\"ONLINE\",\n\"Unspecified\",\n\"MANHATTAN\",\n\"<NA>\",\n\"<NA>\",\n\"<NA>\",\n\"<NA>\",\n\"<NA>\",\n\"<NA>\",\n\"<NA>\",\n\"40.77720102455921\",\n\"-73.976158989108\",\n\"(40.77720102455921, -73.976158989108)\"],\n [{\n            'v': 2,\n            'f': \"2\",\n        },\n\"59892892\",\n\"12/31/2023 11:59:29 PM\",\n\"01/01/2024 04:06:24 AM\",\n\"NYPD\",\n\"New York City Police Department\",\n\"Blocked Driveway\",\n\"Partial Access\",\n\"Street/Sidewalk\",\n\"11355\",\n\"143-34 BARCLAY AVENUE\",\n\"BARCLAY AVENUE\",\n\"BOWNE STREET\",\n\"PARSONS BOULEVARD\",\n\"BOWNE STREET\",\n\"PARSONS BOULEVARD\",\n\"ADDRESS\",\n\"FLUSHING\",\n\"BARCLAY AVENUE\",\n\"<NA>\",\n\"Closed\",\n\"<NA>\",\n\"The Police Department responded to the complaint and with the information available observed no evidence of the violation at that time.\",\n\"01/01/2024 04:06:28 AM\",\n\"07 QUEENS\",\n\"<NA>\",\n\"QUEENS\",\n\"1033392\",\n\"215955\",\n\"MOBILE\",\n\"Unspecified\",\n\"QUEENS\",\n\"<NA>\",\n\"<NA>\",\n\"<NA>\",\n\"<NA>\",\n\"<NA>\",\n\"<NA>\",\n\"<NA>\",\n\"40.759286493466355\",\n\"-73.82261386696051\",\n\"(40.759286493466355, -73.82261386696051)\"],\n [{\n            'v': 3,\n            'f': \"3\",\n        },\n\"59893860\",\n\"12/31/2023 11:59:29 PM\",\n\"01/01/2024 01:51:32 AM\",\n\"NYPD\",\n\"New York City Police Department\",\n\"Noise - Street/Sidewalk\",\n\"Loud Music/Party\",\n\"Street/Sidewalk\",\n\"11374\",\n\"65-09 99 STREET\",\n\"99 STREET\",\n\"65 AVENUE\",\n\"65 ROAD\",\n\"65 AVENUE\",\n\"65 ROAD\",\n\"ADDRESS\",\n\"REGO PARK\",\n\"99 STREET\",\n\"<NA>\",\n\"Closed\",\n\"<NA>\",\n\"The Police Department responded to the complaint and with the information available observed no evidence of the violation at that time.\",\n\"01/01/2024 01:51:35 AM\",\n\"06 QUEENS\",\n\"4021150001\",\n\"QUEENS\",\n\"1024318\",\n\"205042\",\n\"MOBILE\",\n\"Unspecified\",\n\"QUEENS\",\n\"<NA>\",\n\"<NA>\",\n\"<NA>\",\n\"<NA>\",\n\"<NA>\",\n\"<NA>\",\n\"<NA>\",\n\"40.72937885745978\",\n\"-73.85543290785074\",\n\"(40.72937885745978, -73.85543290785074)\"],\n [{\n            'v': 4,\n            'f': \"4\",\n        },\n\"59887231\",\n\"12/31/2023 11:59:23 PM\",\n\"01/01/2024 12:13:30 AM\",\n\"NYPD\",\n\"New York City Police Department\",\n\"Noise - Street/Sidewalk\",\n\"Loud Music/Party\",\n\"Street/Sidewalk\",\n\"11232\",\n\"870 42 STREET\",\n\"42 STREET\",\n\"8 AVENUE\",\n\"9 AVENUE\",\n\"8 AVENUE\",\n\"9 AVENUE\",\n\"ADDRESS\",\n\"BROOKLYN\",\n\"42 STREET\",\n\"<NA>\",\n\"Closed\",\n\"<NA>\",\n\"The Police Department responded to the complaint and took action to fix the condition.\",\n\"01/01/2024 12:13:33 AM\",\n\"12 BROOKLYN\",\n\"3009250035\",\n\"BROOKLYN\",\n\"984910\",\n\"174167\",\n\"MOBILE\",\n\"Unspecified\",\n\"BROOKLYN\",\n\"<NA>\",\n\"<NA>\",\n\"<NA>\",\n\"<NA>\",\n\"<NA>\",\n\"<NA>\",\n\"<NA>\",\n\"40.64472479285036\",\n\"-73.9976217135385\",\n\"(40.64472479285036, -73.9976217135385)\"]],\n        columns: [[\"number\", \"index\"], [\"string\", \"Unique Key\"], [\"string\", \"Created Date\"], [\"string\", \"Closed Date\"], [\"string\", \"Agency\"], [\"string\", \"Agency Name\"], [\"string\", \"Complaint Type\"], [\"string\", \"Descriptor\"], [\"string\", \"Location Type\"], [\"string\", \"Incident Zip\"], [\"string\", \"Incident Address\"], [\"string\", \"Street Name\"], [\"string\", \"Cross Street 1\"], [\"string\", \"Cross Street 2\"], [\"string\", \"Intersection Street 1\"], [\"string\", \"Intersection Street 2\"], [\"string\", \"Address Type\"], [\"string\", \"City\"], [\"string\", \"Landmark\"], [\"string\", \"Facility Type\"], [\"string\", \"Status\"], [\"string\", \"Due Date\"], [\"string\", \"Resolution Description\"], [\"string\", \"Resolution Action Updated Date\"], [\"string\", \"Community Board\"], [\"string\", \"BBL\"], [\"string\", \"Borough\"], [\"string\", \"X Coordinate (State Plane)\"], [\"string\", \"Y Coordinate (State Plane)\"], [\"string\", \"Open Data Channel Type\"], [\"string\", \"Park Facility Name\"], [\"string\", \"Park Borough\"], [\"string\", \"Vehicle Type\"], [\"string\", \"Taxi Company Borough\"], [\"string\", \"Taxi Pick Up Location\"], [\"string\", \"Bridge Highway Name\"], [\"string\", \"Bridge Highway Direction\"], [\"string\", \"Road Ramp\"], [\"string\", \"Bridge Highway Segment\"], [\"string\", \"Latitude\"], [\"string\", \"Longitude\"], [\"string\", \"Location\"]],\n        columnOptions: [{\"width\": \"1px\", \"className\": \"index_column\"}],\n        rowsPerPage: 25,\n        helpUrl: \"https://colab.research.google.com/notebooks/data_table.ipynb\",\n        suppressOutputScrolling: true,\n        minimumWidth: undefined,\n      });\n\n      function appendQuickchartButton(parentElement) {\n        let quickchartButtonContainerElement = document.createElement('div');\n        quickchartButtonContainerElement.innerHTML = `\n<div id=\"df-147dff5c-98eb-40a6-9a34-58408694cb19\">\n  <button class=\"colab-df-quickchart\" onclick=\"quickchart('df-147dff5c-98eb-40a6-9a34-58408694cb19')\"\n            title=\"Suggest charts\"\n            style=\"display:none;\">\n    \n<svg xmlns=\"http://www.w3.org/2000/svg\" height=\"24px\"viewBox=\"0 0 24 24\"\n     width=\"24px\">\n    <g>\n        <path d=\"M19 3H5c-1.1 0-2 .9-2 2v14c0 1.1.9 2 2 2h14c1.1 0 2-.9 2-2V5c0-1.1-.9-2-2-2zM9 17H7v-7h2v7zm4 0h-2V7h2v10zm4 0h-2v-4h2v4z\"/>\n    </g>\n</svg>\n  </button>\n  \n<style>\n  .colab-df-quickchart {\n      --bg-color: #E8F0FE;\n      --fill-color: #1967D2;\n      --hover-bg-color: #E2EBFA;\n      --hover-fill-color: #174EA6;\n      --disabled-fill-color: #AAA;\n      --disabled-bg-color: #DDD;\n  }\n\n  [theme=dark] .colab-df-quickchart {\n      --bg-color: #3B4455;\n      --fill-color: #D2E3FC;\n      --hover-bg-color: #434B5C;\n      --hover-fill-color: #FFFFFF;\n      --disabled-bg-color: #3B4455;\n      --disabled-fill-color: #666;\n  }\n\n  .colab-df-quickchart {\n    background-color: var(--bg-color);\n    border: none;\n    border-radius: 50%;\n    cursor: pointer;\n    display: none;\n    fill: var(--fill-color);\n    height: 32px;\n    padding: 0;\n    width: 32px;\n  }\n\n  .colab-df-quickchart:hover {\n    background-color: var(--hover-bg-color);\n    box-shadow: 0 1px 2px rgba(60, 64, 67, 0.3), 0 1px 3px 1px rgba(60, 64, 67, 0.15);\n    fill: var(--button-hover-fill-color);\n  }\n\n  .colab-df-quickchart-complete:disabled,\n  .colab-df-quickchart-complete:disabled:hover {\n    background-color: var(--disabled-bg-color);\n    fill: var(--disabled-fill-color);\n    box-shadow: none;\n  }\n\n  .colab-df-spinner {\n    border: 2px solid var(--fill-color);\n    border-color: transparent;\n    border-bottom-color: var(--fill-color);\n    animation:\n      spin 1s steps(1) infinite;\n  }\n\n  @keyframes spin {\n    0% {\n      border-color: transparent;\n      border-bottom-color: var(--fill-color);\n      border-left-color: var(--fill-color);\n    }\n    20% {\n      border-color: transparent;\n      border-left-color: var(--fill-color);\n      border-top-color: var(--fill-color);\n    }\n    30% {\n      border-color: transparent;\n      border-left-color: var(--fill-color);\n      border-top-color: var(--fill-color);\n      border-right-color: var(--fill-color);\n    }\n    40% {\n      border-color: transparent;\n      border-right-color: var(--fill-color);\n      border-top-color: var(--fill-color);\n    }\n    60% {\n      border-color: transparent;\n      border-right-color: var(--fill-color);\n    }\n    80% {\n      border-color: transparent;\n      border-right-color: var(--fill-color);\n      border-bottom-color: var(--fill-color);\n    }\n    90% {\n      border-color: transparent;\n      border-bottom-color: var(--fill-color);\n    }\n  }\n</style>\n\n  <script>\n    async function quickchart(key) {\n      const quickchartButtonEl =\n        document.querySelector('#' + key + ' button');\n      quickchartButtonEl.disabled = true;  // To prevent multiple clicks.\n      quickchartButtonEl.classList.add('colab-df-spinner');\n      try {\n        const charts = await google.colab.kernel.invokeFunction(\n            'suggestCharts', [key], {});\n      } catch (error) {\n        console.error('Error during call to suggestCharts:', error);\n      }\n      quickchartButtonEl.classList.remove('colab-df-spinner');\n      quickchartButtonEl.classList.add('colab-df-quickchart-complete');\n    }\n    (() => {\n      let quickchartButtonEl =\n        document.querySelector('#df-147dff5c-98eb-40a6-9a34-58408694cb19 button');\n      quickchartButtonEl.style.display =\n        google.colab.kernel.accessAllowed ? 'block' : 'none';\n    })();\n  </script>\n</div>`;\n        parentElement.appendChild(quickchartButtonContainerElement);\n      }\n\n      appendQuickchartButton(table);\n    ",
            "text/plain": [
              "<google.colab.data_table.DataTable object>"
            ]
          },
          "metadata": {},
          "execution_count": 17
        }
      ]
    },
    {
      "cell_type": "markdown",
      "source": [
        "## Check for Mixed Case Categorical Values\n",
        "\n",
        "We find whether there are mixed cased categorical value for categorical columns in the 311 Service Data Request that we are interested in. This can cause problems with grouping values in our visualizations depending on whether we use them.\n",
        "\n",
        "The commands are separated out as they are long running and we want to be able to rerun them separately in case an error occurs (e.g. Colab crashes, etc.)."
      ],
      "metadata": {
        "id": "dsjJg33iBdQf"
      }
    },
    {
      "cell_type": "code",
      "source": [
        "def check_categorical_data(categorical_series):\n",
        "    category_set = set()\n",
        "\n",
        "    category_case_diff = []\n",
        "\n",
        "    for category_value in categorical_series:\n",
        "        if pd.isnull(category_value):\n",
        "            continue\n",
        "        else:\n",
        "            category_value_lower = category_value.lower()\n",
        "\n",
        "            if category_value_lower not in category_set:\n",
        "                category_set.add(category_value_lower)\n",
        "            else:\n",
        "                category_case_diff.append(category_value_lower)\n",
        "\n",
        "    print('===CHECKING MIXED CASE VALUES===')\n",
        "\n",
        "    for category_case_diff_value in category_case_diff:\n",
        "        matching_categories = []\n",
        "        for category_value in categorical_series:\n",
        "            if not pd.isnull(category_value) and category_case_diff_value == category_value.lower():\n",
        "                matching_categories.append(category_value)\n",
        "\n",
        "        print(matching_categories)\n",
        "\n",
        "    print('===CHECKING SUPPORTED NULL VALUES===')\n",
        "\n",
        "    supported_null_values = []\n",
        "\n",
        "    for category_value in categorical_series:\n",
        "        if pd.isnull(category_value):\n",
        "            supported_null_values.append(None)\n",
        "        else:\n",
        "            category_value_lower = category_value.lower()\n",
        "            if category_value in ['n/a', 'na']:\n",
        "                supported_null_values.append(category_value_lower)\n",
        "\n",
        "    if supported_null_values:\n",
        "        print(supported_null_values)\n",
        "\n",
        "    print('===CHECKING FOR SIMILAR VALUES===')\n",
        "\n",
        "    for category_value in categorical_series:\n",
        "        if pd.isnull(category_value):\n",
        "            continue\n",
        "\n",
        "        category_value_lower = category_value.lower()\n",
        "\n",
        "        for category_value2 in categorical_series:\n",
        "            if pd.isnull(category_value2):\n",
        "                continue\n",
        "            else:\n",
        "                category_value2_lower = category_value2.lower()\n",
        "\n",
        "                if len(category_value2) > len(category_value_lower) and category_value2_lower.startswith(category_value_lower):\n",
        "                    print(f'{category_value} is similar to {category_value2}')\n"
      ],
      "metadata": {
        "id": "Ve_c9pPD5Psa"
      },
      "execution_count": null,
      "outputs": []
    },
    {
      "cell_type": "code",
      "source": [
        "agency_categorical_values = service_requests_dd['Agency'].unique().compute()"
      ],
      "metadata": {
        "id": "9PPqeOJaCJMN"
      },
      "execution_count": null,
      "outputs": []
    },
    {
      "cell_type": "code",
      "source": [
        "check_categorical_data(agency_categorical_values)"
      ],
      "metadata": {
        "colab": {
          "base_uri": "https://localhost:8080/"
        },
        "id": "2b_WyF-DCJWw",
        "outputId": "63b5d40e-a2aa-4a79-c437-6a43f86db4b9"
      },
      "execution_count": null,
      "outputs": [
        {
          "output_type": "stream",
          "name": "stdout",
          "text": [
            "===CHECKING MIXED CASE VALUES===\n",
            "===CHECKING SUPPORTED NULL VALUES===\n",
            "===CHECKING FOR SIMILAR VALUES===\n"
          ]
        }
      ]
    },
    {
      "cell_type": "code",
      "source": [
        "agency_name_categorical_values = service_requests_dd['Agency Name'].unique().compute()"
      ],
      "metadata": {
        "id": "m_rTnp8x4EZT"
      },
      "execution_count": null,
      "outputs": []
    },
    {
      "cell_type": "code",
      "source": [
        "check_categorical_data(agency_name_categorical_values)"
      ],
      "metadata": {
        "id": "zXi7Fn4l5WLj",
        "colab": {
          "base_uri": "https://localhost:8080/"
        },
        "outputId": "c7795e94-7828-4900-c9dd-cd8a40f2cf48"
      },
      "execution_count": null,
      "outputs": [
        {
          "output_type": "stream",
          "name": "stdout",
          "text": [
            "===CHECKING MIXED CASE VALUES===\n",
            "===CHECKING SUPPORTED NULL VALUES===\n",
            "===CHECKING FOR SIMILAR VALUES===\n"
          ]
        }
      ]
    },
    {
      "cell_type": "code",
      "source": [
        "complaint_type_categorical_values = service_requests_dd['Complaint Type'].unique().compute()"
      ],
      "metadata": {
        "id": "bT1jPCG98DYo"
      },
      "execution_count": null,
      "outputs": []
    },
    {
      "cell_type": "code",
      "source": [
        "check_categorical_data(complaint_type_categorical_values)"
      ],
      "metadata": {
        "colab": {
          "base_uri": "https://localhost:8080/"
        },
        "id": "UyJqJSpIBJej",
        "outputId": "e6e1e319-4c35-4221-aa98-f7250eecb643"
      },
      "execution_count": null,
      "outputs": [
        {
          "output_type": "stream",
          "name": "stdout",
          "text": [
            "===CHECKING MIXED CASE VALUES===\n",
            "['PLUMBING', 'Plumbing']\n",
            "['Elevator', 'ELEVATOR']\n",
            "['PAINT/PLASTER', 'Paint/Plaster']\n",
            "['DOOR/WINDOW', 'Door/Window']\n",
            "['FLOORING/STAIRS', 'Flooring/Stairs']\n",
            "['GENERAL', 'General']\n",
            "['WATER LEAK', 'Water Leak']\n",
            "['UNSANITARY CONDITION', 'Unsanitary Condition']\n",
            "['APPLIANCE', 'Appliance']\n",
            "['HEAT/HOT WATER', 'Heat/Hot Water']\n",
            "['ELECTRIC', 'Electric']\n",
            "['SAFETY', 'Safety']\n",
            "['OUTSIDE BUILDING', 'Outside Building']\n",
            "['Mold', 'MOLD']\n",
            "===CHECKING SUPPORTED NULL VALUES===\n",
            "===CHECKING FOR SIMILAR VALUES===\n",
            "ELECTRIC is similar to Electrical\n",
            "Sewer is similar to Sewer Maintenance\n",
            "Noise is similar to Noise - Street/Sidewalk\n",
            "Noise is similar to Noise - Helicopter\n",
            "Noise is similar to Noise - Residential\n",
            "Noise is similar to Noise - Commercial\n",
            "Noise is similar to Noise - Vehicle\n",
            "Noise is similar to Noise - Park\n",
            "Noise is similar to Noise - House of Worship\n",
            "GENERAL is similar to General Construction/Plumbing\n",
            "Dirty Condition is similar to Dirty Conditions\n",
            "Missed Collection is similar to Missed Collection (All Materials)\n",
            "Traffic is similar to Traffic Signal Condition\n",
            "Drinking is similar to Drinking Water\n",
            "General is similar to General Construction/Plumbing\n",
            "Boiler is similar to Boilers\n",
            "Electric is similar to Electrical\n",
            "Sweeping/Missed is similar to Sweeping/Missed-Inadequate\n",
            "Snow is similar to Snow or Ice\n",
            "Snow is similar to Snow Removal\n"
          ]
        }
      ]
    },
    {
      "cell_type": "code",
      "source": [
        "descriptor_series = service_requests_dd['Descriptor'].unique().compute()"
      ],
      "metadata": {
        "id": "D-fDr0FFKbt8"
      },
      "execution_count": null,
      "outputs": []
    },
    {
      "cell_type": "code",
      "source": [
        "check_categorical_data(descriptor_series)"
      ],
      "metadata": {
        "id": "aYxN0Wao5Zv4",
        "colab": {
          "base_uri": "https://localhost:8080/"
        },
        "outputId": "29ea9ecb-ae3a-40d7-a16a-cf1f603f7aec"
      },
      "execution_count": null,
      "outputs": [
        {
          "output_type": "stream",
          "name": "stdout",
          "text": [
            "===CHECKING MIXED CASE VALUES===\n",
            "['Lighting', 'LIGHTING']\n",
            "['SEWAGE', 'Sewage']\n",
            "['DOOR', 'Door']\n",
            "['CEILING', 'Ceiling']\n",
            "['WINDOW FRAME', 'Window Frame']\n",
            "['FLOOR', 'Floor']\n",
            "['CABINET', 'Cabinet']\n",
            "['WALL', 'Wall']\n",
            "['BATHTUB/SHOWER', 'Bathtub/Shower']\n",
            "['BELL/BUZZER/INTERCOM', 'Bell/Buzzer/Intercom']\n",
            "['HEAVY FLOW', 'Heavy Flow']\n",
            "['DOOR FRAME', 'Door Frame']\n",
            "['RADIATOR', 'Radiator']\n",
            "['WATER SUPPLY', 'Water Supply']\n",
            "['MOLD', 'Mold']\n",
            "['BASIN/SINK', 'Basin/Sink']\n",
            "['DAMP SPOT', 'Damp Spot']\n",
            "['REFRIGERATOR', 'Refrigerator']\n",
            "['WINDOW PANE', 'Window Pane']\n",
            "['TOILET', 'Toilet']\n",
            "['SLOW LEAK', 'Slow Leak']\n",
            "['ENTIRE BUILDING', 'Entire Building']\n",
            "['APARTMENT ONLY', 'Apartment Only']\n",
            "['COOKING GAS', 'Cooking Gas']\n",
            "['POWER OUTAGE', 'Power Outage']\n",
            "['FIRE ESCAPE', 'Fire Escape']\n",
            "['ELECTRIC/GAS RANGE', 'Electric/Gas Range']\n",
            "['WINDOW/FRAME', 'Window/Frame']\n",
            "['SMOKE DETECTOR', 'Smoke Detector']\n",
            "['CARBON MONOXIDE DETECTOR', 'Carbon Monoxide Detector']\n",
            "['WINDOW GUARD BROKEN/MISSING', 'Window Guard Broken/Missing']\n",
            "['WIRING', 'Wiring']\n",
            "['STEAM PIPE/RISER', 'Steam Pipe/Riser']\n",
            "['VENTILATION SYSTEM', 'Ventilation System']\n",
            "['SPRINKLER', 'Sprinkler']\n",
            "['PESTS', 'Pests']\n",
            "['DOOR/FRAME', 'Door/Frame']\n",
            "['DOOR TO DUMBWAITER', 'Door to Dumbwaiter']\n",
            "['SKYLIGHT', 'Skylight']\n",
            "['STAIRS', 'Stairs']\n",
            "['JANITOR/SUPER', 'Janitor/Super']\n",
            "['ROOFING', 'Roofing']\n",
            "===CHECKING SUPPORTED NULL VALUES===\n",
            "[None]\n",
            "===CHECKING FOR SIMILAR VALUES===\n",
            "Other is similar to Other (complaint details)\n",
            "Other is similar to Other Store (Non-Food)\n",
            "Other is similar to Other (Explain Below)\n",
            "Other is similar to Other/Unknown\n",
            "Other is similar to Other Animal\n",
            "Other is similar to Other School Condition\n",
            "Other is similar to Other Water Problem (Use Comments) (QZZ)\n",
            "Other is similar to Other - Explain Below\n",
            "Other is similar to Other Request for Enforcement\n",
            "Other is similar to Other Sewer Problem (Use Comments) (SZZ)\n",
            "Other is similar to Other Water Problem (Use Comments) (WZZ)\n",
            "Other is similar to OTHER INDUSTRIAL WASTE PROBLEM (USE COMMENTS) FOR DEP INTERNAL USE ONLY (IZ)\n",
            "Other is similar to OTHER WATER WASTE PROBLEM (USE COMMENTS) FOR DEP INTERNAL USE ONLY (CZ)\n",
            "DOOR is similar to DOOR/FRAME\n",
            "DOOR is similar to DOOR FRAME\n",
            "DOOR is similar to DOOR TO DUMBWAITER\n",
            "DOOR is similar to Door Lock\n",
            "DOOR is similar to Door to Door Sales\n",
            "DOOR is similar to Door Frame\n",
            "DOOR is similar to Door/Frame\n",
            "DOOR is similar to Door to Dumbwaiter\n",
            "Controller is similar to Controller Cabinet\n",
            "Controller is similar to Controller Flasher\n",
            "Trash is similar to Trash or Recycling Not Secure\n",
            "Trash is similar to Trash or Recycling\n",
            "Trash is similar to Trash and Bulky Trash\n",
            "Trash is similar to Trash Not Separated from Recycling\n",
            "WALL is similar to Wall/Retaining Wall - Bulging/Cracked\n",
            "Lighting is similar to Lighting - Garage\n",
            "Lighting is similar to Lighting/Electrical\n",
            "Graffiti is similar to Graffiti or Vandalism\n",
            "Graffiti is similar to Graffiti - Highway\n",
            "Graffiti is similar to Graffiti - Bridge\n",
            "Graffiti is similar to Graffiti/Dirty Condition\n",
            "Graffiti is similar to Graffiti/Litter on Phone\n",
            "Pothole is similar to Pothole - Highway\n",
            "Pothole is similar to Pothole - Tunnel\n",
            "TOILET is similar to Toilet Facility\n",
            "REFRIGERATOR is similar to Refrigerator or Freezer Door Attached\n",
            "Bird is similar to Bird Bath\n",
            "Sign is similar to Sign/Awning/Marquee - Illegal/No Permit\n",
            "Sign is similar to Signs of Rodents\n",
            "Sign is similar to SIGNAGE MISSING\n",
            "Sign is similar to Sign Missing or Defective\n",
            "Sign is similar to Sign - In Danger Of Falling\n",
            "Sign is similar to Sign Defect - Lot\n",
            "Sign is similar to Sign Blocked by Tree\n",
            "Sign is similar to Sign Defect - Garage\n",
            "Cat is similar to Catch Basin Search (SC2)\n",
            "Cat is similar to Catch Basin Clogged/Flooding (Use Comments) (SC)\n",
            "Cat is similar to Catch Basin Sunken/Damaged/Raised (SC1)\n",
            "Cat is similar to Catch Basin Grating Missing (SA4)\n",
            "Cat is similar to Catering Establishment\n",
            "Cat is similar to Catch Basin Clogged\n",
            "Cat is similar to Catch Basin Sunken\n",
            "Cat is similar to Catch Basin Grate Missing\n",
            "Cat is similar to Catch Basin Connection Broken *Dep Internal Use Only* (SC5)\n",
            "Post is similar to Posted Parking Sign Violation\n",
            "Post is similar to Poster or Sign\n",
            "Post is similar to Posted Notice Or Order Removed/Tampered With\n",
            "SEWAGE is similar to Sewage Odor\n",
            "SEWAGE is similar to Sewage Leak\n",
            "Dog is similar to Dog Off Leash\n",
            "Dog is similar to Dog Waste\n",
            "Dog is similar to Dogs or Cats Sold\n",
            "Dog is similar to Dogs or Cats Not Sold\n",
            "Stop is similar to Stop Temporary\n",
            "Defective Hardware is similar to Defective Hardware - DEP\n",
            "Trash or Recycling is similar to Trash or Recycling Not Secure\n",
            "Restaurant is similar to Restaurant/Bar Not in Compliance\n",
            "Recycling - Paper is similar to Recycling - Paper/Metal/Glass/Rigid Plastic\n",
            "Garbage is similar to GARBAGE/RECYCLING STORAGE\n",
            "Garbage is similar to Garbage or Litter\n",
            "Ventilation is similar to VENTILATION SYSTEM\n",
            "Ventilation is similar to Ventilation System\n",
            "Odor is similar to Odor In Sewer/Catch Basin (ICB)\n",
            "MAINTENANCE is similar to Maintenance Cover\n",
            "LIGHTING is similar to Lighting - Garage\n",
            "LIGHTING is similar to Lighting/Electrical\n",
            "SPRINKLER is similar to Sprinkler System - Inadequate\n",
            "Equipment is similar to Equipment Complaint\n",
            "Equipment is similar to Equipment Malfunction\n",
            "Equipment is similar to Equipment Maintenance\n",
            "Building is similar to Building Shaking/Vibrating/Structural Stability\n",
            "Building is similar to Building Permit - None\n",
            "Building is similar to Building - Vacant, Open And Unguarded\n",
            "Building is similar to Building Foundation\n",
            "Warning Signal is similar to Warning Signal Lamp\n",
            "Construction is similar to Construction - Change Grade/Watercourse\n",
            "Construction is similar to Construction Labor Provider\n",
            "Construction is similar to Construction Debris\n",
            "Construction is similar to Construction Enforcement Work Order (DOB)\n",
            "BOILER is similar to Boiler - Defective/Inoperative/No Permit\n",
            "BOILER is similar to Boiler - Fumes/Smoke/Carbon Monoxide\n",
            "Chained is similar to Chained to Public Property\n",
            "Chained is similar to Chained Bike\n",
            "Noise is similar to Noise, Barking Dog (NR5)\n",
            "Noise is similar to Noise: Alarms (NR3)\n",
            "Noise is similar to Noise: Construction Before/After Hours (NM1)\n",
            "Noise is similar to Noise: Construction Equipment (NC1)\n",
            "Noise is similar to Noise: air condition/ventilation equipment (NV1)\n",
            "Noise is similar to Noise: Jack Hammering (NC2)\n",
            "Noise is similar to Noise: Private Carting Noise (NQ1)\n",
            "Noise is similar to Noise, Ice Cream Truck (NR4)\n",
            "Noise is similar to Noise: Manufacturing Noise (NK1)\n",
            "Noise is similar to Noise:  lawn care equipment (NCL)\n",
            "Noise is similar to Noise, Other Animals (NR6)\n",
            "Noise is similar to Noise: Boat(Engine,Music,Etc) (NR10)\n",
            "Noise is similar to Noise: Other Noise Sources (Use Comments) (NZZ)\n",
            "Noise is similar to Noise: Loud Music/Daytime (Mark Date And Time) (NN1)\n",
            "Noise is similar to Noise: Other Noise Sources (Use Comments) - For Dep Internal Use Only (YNZZ)\n",
            "Noise is similar to Noise: Construction Equipment - For Dep Internal Use Only (YNC1)\n",
            "Noise is similar to Noise: Loud Music/Nighttime(Mark Date And Time) - For Dep Internal Use Only (YNP1)\n",
            "Noise is similar to NOISE: AIR CONDITION/VENTILATION EQUIPMENT - FOR DEP INTERNAL USE ONLY (YNV1)\n",
            "Noise is similar to Noise: Vehicle (NR2)\n",
            "Noise is similar to Noise: Boat(Engine\n",
            "Noise is similar to Noise: Loud Music From Siebel System - For Dep Internal Use Only (NP21)\n",
            "Noise is similar to Noise: Construction Before/After Hours - For Dep Internal Use Only (YNM1)\n",
            "Smoking is similar to Smoking Violation\n",
            "Smoking is similar to Smoking, Cigar, or Vape Store\n",
            "Smoking is similar to Smoking Ban - Smoking on Construction Site\n",
            "Smoking is similar to Smoking Signs - \"No Smoking\" Signs Not Observed on Construction Site\n",
            "Jewelry is similar to Jewelry Store\n",
            "Jewelry is similar to Jewelry Appraiser\n",
            "Driver Complaint is similar to Driver Complaint - Passenger\n",
            "Driver Complaint is similar to Driver Complaint - Non Passenger\n",
            "Sewage is similar to Sewage Odor\n",
            "Sewage is similar to Sewage Leak\n",
            "SEWER is similar to Sewer Backup (Use Comments) (SA)\n",
            "SEWER is similar to Sewer Odor (SA2)\n",
            "SEWER is similar to Sewer or Drain\n",
            "SEWER is similar to Sewer Break (SBR)\n",
            "Wireless is similar to Wireless Antenna\n",
            "Fence is similar to Fence - None/Inadequate\n",
            "Plumbing is similar to Plumbing Work - Illegal/No Permit/Standpipe/Sprinkler\n",
            "Plumbing is similar to Plumbing Work - Unlicensed/Illegal/Improper Work In Progress\n",
            "Plumbing is similar to Plumbing-Defective/Leaking/Not Maintained\n",
            "Plumbing is similar to Plumbing Problem\n",
            "Door is similar to DOOR/FRAME\n",
            "Door is similar to DOOR FRAME\n",
            "Door is similar to DOOR TO DUMBWAITER\n",
            "Door is similar to Door Lock\n",
            "Door is similar to Door to Door Sales\n",
            "Door is similar to Door Frame\n",
            "Door is similar to Door/Frame\n",
            "Door is similar to Door to Dumbwaiter\n",
            "Water is similar to WATER SUPPLY\n",
            "Water is similar to Water Meter Broken/Leaking - Private Residence (CMR)\n",
            "Water is similar to Water Meter Broken/Leaking - Other (CMO)\n",
            "Water is similar to Water Meter Stolen/Missing - Other (CLO)\n",
            "Water is similar to Water Meter Stolen/Missing - Private Residence (CLR)\n",
            "Water is similar to Waterway-Sewage (IHA)\n",
            "Water is similar to Waterway-Color (IHD)\n",
            "Water is similar to Waterway-Floatables (IHC)\n",
            "Water is similar to Water Supply\n",
            "Water is similar to Water in Basement\n",
            "Water is similar to Waterway-Oil/Gasoline (IHB)\n",
            "Water is similar to Water or Sewer Runoff\n",
            "Vehicle is similar to Vehicle Complaint\n",
            "Vehicle is similar to Vehicle Signal\n",
            "Vehicle is similar to Vehicle Report\n",
            "Blocking Sidewalk is similar to Blocking Sidewalk or Street\n",
            "Wall is similar to Wall/Retaining Wall - Bulging/Cracked\n",
            "Catch Basin Clogged is similar to Catch Basin Clogged/Flooding (Use Comments) (SC)\n",
            "Refrigerator is similar to Refrigerator or Freezer Door Attached\n",
            "Toilet is similar to Toilet Facility\n",
            "Defective is similar to Defective Hardware\n",
            "Defective is similar to Defective/Missing Curb Piece (SC4)\n",
            "Defective is similar to Defective Water Sampling Station (QSS)\n",
            "Defective is similar to Defective Catch Basin\n",
            "Defective is similar to Defective Manhole Cover\n",
            "Defective is similar to Defective Street Cut (WZZ1)\n",
            "Defective is similar to Defective Hardware - DEP\n",
            "Defective is similar to Defective Valve (For Dep Internal Use Only) (WV1)\n",
            "Leak is similar to Leak (Use Comments) (WA2)\n",
            "Leak is similar to Leaky Roof\n",
            "Commercial is similar to Commercial Overnight Parking\n",
            "Sprinkler is similar to Sprinkler System - Inadequate\n",
            "Catch Basin Sunken is similar to Catch Basin Sunken/Damaged/Raised (SC1)\n",
            "Chronic is similar to Chronic Dumping\n",
            "Chronic is similar to Chronic Stoplight Violation\n",
            "Chronic is similar to Chronic Speeding\n",
            "Foam is similar to Foam Use\n",
            "Residential is similar to Residential Rental Agency\n",
            "Depression is similar to Depression Maintenance\n",
            "Pedestrian Sign is similar to Pedestrian Signal\n",
            "Debris is similar to Debris from Car Accident\n",
            "Debris is similar to Debris - Excessive\n",
            "Debris is similar to Debris - Falling Or In Danger Of Falling\n",
            "Stoop Line is similar to Stoop Line Stand\n",
            "Hotel is similar to Hotel or Motel\n",
            "For-profit College is similar to For-Profit College or University\n",
            "Gas Station is similar to Gas Station Pumps\n",
            "Gas Station is similar to Gas Station Convenience Store\n",
            "Immigration Services is similar to Immigration Services Provider\n",
            "Taste is similar to Taste/Odor, Chlorine (QA1)\n",
            "Taste is similar to Taste/Odor, Chemical (QA2)\n",
            "Taste is similar to Taste/Odor, Musty/Stale (QA4)\n",
            "Taste is similar to Taste/Odor, Bitter/Metallic (QA3)\n",
            "Taste is similar to Taste/Odor, Sewer (QA5)\n",
            "Taste is similar to Taste/Odor\n",
            "Hydrant Defect is similar to Hydrant Defective (WC2)\n",
            "Dust is similar to Dust from Construction\n",
            "Dust is similar to Dust Cover\n",
            "Sidewalk is similar to Sidewalk Shed/Pipe Scafford - Inadequate Defective/None\n",
            "Sidewalk is similar to Sidewalk Display\n",
            "Sidewalk is similar to Sidewalk Violation\n",
            "Sidewalk is similar to Sidewalk Zone Blocked\n",
            "Sidewalk is similar to Sidewalk Grating - Defective\n",
            "Sidewalk is similar to Sidewalk Collapsed\n",
            "Sidewalk is similar to Sidewalk Staircase\n",
            "Sidewalk is similar to Sidewalk Grating - Missing\n",
            "Sidewalk is similar to Sidewalk Pull Box Co\n",
            "Dead End Sign is similar to Dead End Signal\n",
            "Asbestos is similar to Asbestos Complaint (B1)\n",
            "Air: Odor/Fumes is similar to Air: Odor/Fumes, Vehicle Idling (AD3)\n",
            "Air: Odor/Fumes is similar to Air: Odor/Fumes, Restaurant (AD2)\n",
            "Air: Odor/Fumes is similar to Air: Odor/Fumes, Dry Cleaners (AD1)\n",
            "Air: Odor/Fumes is similar to Air: Odor/Fumes, Other (Use Comments) (AD6)\n",
            "Air: Odor/Fumes is similar to Air: Odor/Fumes, Other (Use Comments)-For Dep Internal Use Only (YAD6)\n",
            "Air: Smoke is similar to Air: Smoke, Vehicular (AA4)\n",
            "Air: Smoke is similar to Air: Smoke, Chimney or vent (AS1)\n",
            "Air: Smoke is similar to Air: Smoke, Other (Use Comments)- For Dep Internal Use Only (YAA5)\n",
            "Oil Spill On Street is similar to Oil Spill On Street, Large (HQL)\n",
            "Oil Spill On Street is similar to Oil Spill On Street, Small (HQS)\n",
            "Unsafe Chemical is similar to Unsafe Chemical, Storage (HC1)\n",
            "Unsafe Chemical is similar to Unsafe Chemical, Abandoned (HC2)\n",
            "No Sampling Required is similar to No Sampling Required, Requested Information (QG2)\n",
            "Taste/Odor is similar to Taste/Odor, Chlorine (QA1)\n",
            "Taste/Odor is similar to Taste/Odor, Chemical (QA2)\n",
            "Taste/Odor is similar to Taste/Odor, Musty/Stale (QA4)\n",
            "Taste/Odor is similar to Taste/Odor, Bitter/Metallic (QA3)\n",
            "Taste/Odor is similar to Taste/Odor, Sewer (QA5)\n",
            "Noise: Boat(Engine is similar to Noise: Boat(Engine,Music,Etc) (NR10)\n",
            "Air: Dust is similar to Air: Dust, Other (Use Comments) (AE5)\n",
            "Air: Dust is similar to Air: Dust, Construction/Demolition (AE4)\n",
            "Illegal Use Of Hose - Private Residence is similar to Illegal Use Of Hose - Private Residence (CCR)\n",
            "Wasting Faucets is similar to Wasting Faucets,Sinks,Flushometer,Urinal,Etc. - Private Residence (CWR)\n",
            "Wasting Faucets is similar to Wasting Faucets,Sinks,Flushometer,Urinal,Etc. - Other (CWO)\n",
            "Wasting Faucets is similar to Wasting Faucets,Sinks,Etc., Private Residence (CA1)\n",
            "Cloudy Or Milky is similar to Cloudy Or Milky Water (QB1)\n",
            "Cloudy Or Milky is similar to Cloudy Or Milky, Other (Use Comments) (QBZ)\n",
            "Snow Removal is similar to Snow Removal Requested\n",
            "Unlicensed is similar to Unlicensed Vendors\n",
            "Unlicensed is similar to Unlicensed/Illegal/Improper Work In Progress\n",
            "Unlicensed is similar to Unlicensed Day Care\n"
          ]
        }
      ]
    },
    {
      "cell_type": "code",
      "source": [
        "check_categorical_data(service_requests_dd['Location Type'].unique().compute())"
      ],
      "metadata": {
        "id": "2k4mDgT05cpe",
        "colab": {
          "base_uri": "https://localhost:8080/"
        },
        "outputId": "5c9d5a73-ec16-4b09-e01f-9b233ae6bf7c"
      },
      "execution_count": null,
      "outputs": [
        {
          "output_type": "stream",
          "name": "stdout",
          "text": [
            "===CHECKING MIXED CASE VALUES===\n",
            "['RESIDENTIAL BUILDING', 'Residential Building']\n",
            "['3+ Family ApT', '3+ Family Apt']\n",
            "===CHECKING SUPPORTED NULL VALUES===\n",
            "[None]\n",
            "===CHECKING FOR SIMILAR VALUES===\n",
            "RESIDENTIAL BUILDING is similar to Residential Building/House\n",
            "Street is similar to Street/Sidewalk\n",
            "Street is similar to Street/Curbside\n",
            "Street is similar to Street Vendor\n",
            "Street is similar to Street Fair Vendor\n",
            "Street is similar to Street Area\n",
            "Street is similar to Street Address\n",
            "Business is similar to Business Open to the Public\n",
            "Residential Building is similar to Residential Building/House\n",
            "Subway is similar to Subway Station\n",
            "Residential is similar to Residential Building/House\n",
            "Residential is similar to RESIDENTIAL BUILDING\n",
            "Residential is similar to Residential Building\n",
            "Residential is similar to Residential Property\n",
            "Vacant Lot is similar to Vacant Lot/Property\n",
            "Park is similar to Park/Playground\n",
            "Park is similar to Parking Lot\n",
            "Park is similar to Parking Lot/Garage\n",
            "Other is similar to Other (Explain Below)\n",
            "Other is similar to Other (explain in Complaint Details)\n",
            "Parking Lot is similar to Parking Lot/Garage\n",
            "Public Garden is similar to Public Garden/Park\n",
            "Bridge is similar to Bridge/Underpass\n",
            "Government Building is similar to Government Building - Foreign\n",
            "School is similar to School/Pre-School\n",
            "School is similar to School Safety Zone\n",
            "School is similar to School - K-12 Public\n",
            "School is similar to School - College/University\n",
            "School is similar to School - K-12 Private\n",
            "School is similar to School or University\n",
            "Restaurant is similar to Restaurant/Bar/Deli/Bakery\n",
            "Commercial is similar to Commercial Building\n",
            "Commercial is similar to Commercial Property\n",
            "Store is similar to Store/Commercial\n",
            "Building is similar to Building (Non-Residential)\n",
            "Building is similar to Building-Wide\n",
            "Building is similar to Building Entrance\n",
            "Building is similar to Building Sign\n",
            "Cafeteria - Private is similar to Cafeteria - Private School\n",
            "Food Establishment is similar to Food Establishment or Vendor\n",
            "Health Club is similar to Health Club or Gym\n",
            "3+ Family ApT is similar to 3+ Family Apt. Building\n",
            "3+ Family ApT is similar to 3+ Family Apt.\n",
            "3+ Family Apt is similar to 3+ Family Apt. Building\n",
            "3+ Family Apt is similar to 3+ Family Apt.\n",
            "3+ Family is similar to 3+ Family Apt. Building\n",
            "3+ Family is similar to 3+ Family Apartment Building\n",
            "3+ Family is similar to 3+ Family Mixed Use Building\n",
            "3+ Family is similar to 3+ Family ApT\n",
            "3+ Family is similar to 3+ Family Apt\n",
            "3+ Family is similar to 3+ Family Apt.\n",
            "3+ Family is similar to 3+ Family Mixed\n",
            "3+ Family is similar to 3+ Family Apart\n",
            "3+ Family Apt. is similar to 3+ Family Apt. Building\n",
            "Roadway is similar to Roadway Tunnel\n",
            "3+ Family Mixed is similar to 3+ Family Mixed Use Building\n",
            "3+ Family Apart is similar to 3+ Family Apartment Building\n"
          ]
        }
      ]
    },
    {
      "cell_type": "code",
      "source": [
        "check_categorical_data(service_requests_dd['City'].unique().compute())"
      ],
      "metadata": {
        "id": "AvWHoP4V5yTF",
        "colab": {
          "base_uri": "https://localhost:8080/"
        },
        "outputId": "8176f4c2-43a8-4ba4-fe4f-1b804630d704"
      },
      "execution_count": null,
      "outputs": [
        {
          "output_type": "stream",
          "name": "stdout",
          "text": [
            "===CHECKING MIXED CASE VALUES===\n",
            "['BROOKLYN', 'Brooklyn', 'brooklyn']\n",
            "['MANHATTAN', 'Manhattan', 'manhattan']\n",
            "['ELMHURST', 'Elmhurst']\n",
            "['LONG ISLAND CITY', 'Long Island City']\n",
            "['BRONX', 'Bronx', 'bronx']\n",
            "['BROOKLYN', 'Brooklyn', 'brooklyn']\n",
            "['MANHATTAN', 'Manhattan', 'manhattan']\n",
            "['QUEENS', 'Queens', 'queens']\n",
            "['NEW YORK', 'New York', 'new york']\n",
            "['QUEENS', 'Queens', 'queens']\n",
            "['Farmingdale', 'farmingdale', 'FARMINGDALE']\n",
            "['BRONX', 'Bronx', 'bronx']\n",
            "['PELHAM', 'pelham']\n",
            "['WOODSIDE', 'Woodside']\n",
            "['Great Neck', 'Great neck', 'GREAT NECK']\n",
            "['NEW YORK', 'New York', 'new york']\n",
            "['Buffalo', 'buffalo']\n",
            "['Island Park', 'island park']\n",
            "['NEW HYDE PARK', 'New Hyde Park', 'New Hyde park']\n",
            "['long island', 'Long Island', 'LONG ISLAND']\n",
            "['Denville', 'denville']\n",
            "['STATEN ISLAND', 'staten island', 'Staten Island']\n",
            "['FLORAL PARK', 'floral park', 'Floral Park']\n",
            "['Queen', 'queen']\n",
            "['NEW HYDE PARK', 'New Hyde Park', 'New Hyde park']\n",
            "['Austin', 'austin', 'AUSTIN']\n",
            "['FLUSHING', 'Flushing']\n",
            "['ASTORIA', 'Astoria']\n",
            "['Norwood', 'NORWOOD']\n",
            "['RICHMOND', 'Richmond']\n",
            "['Harrisburg', 'HarrisBurg', 'HARRISBURG']\n",
            "['Hempstead', 'HEMPSTEAD']\n",
            "['Hicksville', 'HICKSVILLE']\n",
            "['JAMAICA', 'Jamaica']\n",
            "['Reading', 'reading']\n",
            "['Union', 'UNION']\n",
            "['Spring valley', 'SPRING VALLEY', 'spring valley']\n",
            "['BELLPORT', 'Bellport']\n",
            "['FARMINGTON HILLS', 'Farmington Hills']\n",
            "['LITTLE NECK', 'Little Neck']\n",
            "['FLORAL PARK', 'floral park', 'Floral Park']\n",
            "['Boca Raton', 'BOCA RATON']\n",
            "['FOREST HILLS', 'Forest Hills']\n",
            "['STATEN ISLAND', 'staten island', 'Staten Island']\n",
            "['QUEENS VILLAGE', 'Queens Village']\n",
            "['OZONE PARK', 'Ozone Park']\n",
            "['NEW YORK CITY', 'New York City']\n",
            "['Mount Vernon', 'MOUNT VERNON']\n",
            "['Farmingdale', 'farmingdale', 'FARMINGDALE']\n",
            "['Valley Stream', 'VALLEY STREAM']\n",
            "['Austin', 'austin', 'AUSTIN']\n",
            "['inwood', 'INWOOD']\n",
            "['SOUTH PLAINFIELD', 'South Plainfield']\n",
            "['Syosset', 'syosset', 'SYOSSET']\n",
            "['Spring valley', 'SPRING VALLEY', 'spring valley']\n",
            "['Brentwood', 'BRENTWOOD']\n",
            "['Greenville', 'GREENVILLE', 'greenville']\n",
            "['Great Neck', 'Great neck', 'GREAT NECK']\n",
            "['Syosset', 'syosset', 'SYOSSET']\n",
            "['Babylon', 'BABYLON']\n",
            "['Greenville', 'GREENVILLE', 'greenville']\n",
            "['Woodmere', 'WOODMERE']\n",
            "['Columbus', 'COLUMBUS']\n",
            "['long island', 'Long Island', 'LONG ISLAND']\n",
            "['Chicago', 'CHICAGO']\n",
            "['Harrisburg', 'HarrisBurg', 'HARRISBURG']\n",
            "['New Rochelle', 'NEW ROCHELLE']\n",
            "['Albany', 'ALBANY']\n",
            "['IRVINE', 'irvine', 'Irvine']\n",
            "['WOODBURY', 'Woodbury']\n",
            "['port washington', 'PORT WASHINGTON']\n",
            "['Yonkers', 'YONKERS']\n",
            "['AMITYVILLE', 'Amityville']\n",
            "['Westbury', 'WESTBURY']\n",
            "['BAYSIDE', 'Bayside']\n",
            "['SOUTH RICHMOND HILL', 'South Richmond Hill']\n",
            "['RIDGEWOOD', 'Ridgewood']\n",
            "['FRESH MEADOWS', 'Fresh Meadows']\n",
            "['SPRINGFIELD GARDENS', 'Springfield Gardens']\n",
            "['HOLLIS', 'Hollis']\n",
            "['SOUTH OZONE PARK', 'South Ozone Park']\n",
            "['MIDDLE VILLAGE', 'Middle Village']\n",
            "['FAR ROCKAWAY', 'Far Rockaway']\n",
            "['REGO PARK', 'Rego Park']\n",
            "['WHITESTONE', 'Whitestone']\n",
            "['MASPETH', 'Maspeth']\n",
            "['BELLEROSE', 'Bellerose']\n",
            "['OAKLAND GARDENS', 'Oakland Gardens']\n",
            "['CAMBRIA HEIGHTS', 'Cambria Heights']\n",
            "['ROSEDALE', 'Rosedale']\n",
            "['RICHMOND HILL', 'Richmond Hill']\n",
            "['COLLEGE POINT', 'College Point']\n",
            "['EAST ELMHURST', 'East Elmhurst']\n",
            "['IRVINE', 'irvine', 'Irvine']\n",
            "['JACKSON HEIGHTS', 'Jackson Heights']\n",
            "['WOODHAVEN', 'Woodhaven']\n",
            "['CORONA', 'Corona']\n",
            "['Elmont', 'ELMONT']\n",
            "['KEW GARDENS', 'Kew Gardens']\n",
            "['SUNNYSIDE', 'Sunnyside']\n",
            "['GLEN OAKS', 'Glen Oaks']\n",
            "['ARVERNE', 'Arverne']\n",
            "['SAINT ALBANS', 'Saint Albans']\n",
            "['HOWARD BEACH', 'Howard Beach']\n",
            "['escondido', 'ESCONDIDO']\n",
            "['unknown', 'UNKNOWN']\n",
            "['amittyville', 'AMITTYVILLE']\n",
            "['Melville', 'MELVILLE']\n",
            "['BREEZY POINT', 'Breezy Point']\n",
            "===CHECKING SUPPORTED NULL VALUES===\n",
            "[None, 'na']\n",
            "===CHECKING FOR SIMILAR VALUES===\n",
            "NEW YORK is similar to NEW YORK CITY\n",
            "NEW YORK is similar to New York City\n",
            "NEW YORK is similar to New York (fake)\n",
            "FLUSHING is similar to Flushing ave\n",
            "BRONX is similar to Bronxville\n",
            "BRONX is similar to Bronx (fake)\n",
            "JAMAICA is similar to JAMAICA PLAIN\n",
            "STATEN ISLAND is similar to Staten Island New York\n",
            "ELMHURST is similar to Elmhurst (fake)\n",
            "QUEENS is similar to QUEENS VILLAGE\n",
            "QUEENS is similar to Queens Village\n",
            "long island is similar to LONG ISLAND CITY\n",
            "long island is similar to Long Island City\n",
            "Elmhurst is similar to Elmhurst (fake)\n",
            "Bronx is similar to Bronxville\n",
            "Bronx is similar to Bronx (fake)\n",
            "Queens is similar to QUEENS VILLAGE\n",
            "Queens is similar to Queens Village\n",
            "Mi is similar to MIDDLE VILLAGE\n",
            "Mi is similar to Mineola\n",
            "Mi is similar to Minroe\n",
            "Mi is similar to MIDDLETON\n",
            "Mi is similar to Middle Village\n",
            "Mi is similar to Minneapolis\n",
            "RICHMOND is similar to RICHMOND HILL\n",
            "RICHMOND is similar to Richmond Hill\n",
            "New York is similar to NEW YORK CITY\n",
            "New York is similar to New York City\n",
            "New York is similar to New York (fake)\n",
            "queens is similar to QUEENS VILLAGE\n",
            "queens is similar to Queens Village\n",
            "Queen is similar to QUEENS VILLAGE\n",
            "Queen is similar to QUEENS\n",
            "Queen is similar to Queens\n",
            "Queen is similar to queens\n",
            "Queen is similar to Queens Village\n",
            "bronx is similar to Bronxville\n",
            "bronx is similar to Bronx (fake)\n",
            "new york is similar to NEW YORK CITY\n",
            "new york is similar to New York City\n",
            "new york is similar to New York (fake)\n",
            "Long Island is similar to LONG ISLAND CITY\n",
            "Long Island is similar to Long Island City\n",
            "staten island is similar to Staten Island New York\n",
            "queen is similar to QUEENS VILLAGE\n",
            "queen is similar to QUEENS\n",
            "queen is similar to Queens\n",
            "queen is similar to queens\n",
            "queen is similar to Queens Village\n",
            "Flushing is similar to Flushing ave\n",
            "na is similar to Nassau County\n",
            "na is similar to Naples\n",
            "na is similar to Nassau\n",
            "ROCKAWAY is similar to Rockaway Park\n",
            "ROCKAWAY is similar to ROCKAWAY BEACH\n",
            "Richmond is similar to RICHMOND HILL\n",
            "Richmond is similar to Richmond Hill\n",
            "Jamaica is similar to JAMAICA PLAIN\n",
            "Springfield is similar to SPRINGFIELD GARDENS\n",
            "Springfield is similar to Springfield Gardens\n",
            "Nassau is similar to Nassau County\n",
            "Massapequa is similar to Massapequa Park\n",
            "Staten Island is similar to Staten Island New York\n",
            "LONG ISLAND is similar to LONG ISLAND CITY\n",
            "LONG ISLAND is similar to Long Island City\n",
            "PORT JEFFERSON is similar to Port Jefferson Station\n",
            "HUNTINGTON is similar to Huntington Station\n",
            "CA is similar to CAMBRIA HEIGHTS\n",
            "CA is similar to Calabasas\n",
            "CA is similar to Carlstadt\n",
            "CA is similar to Carrollton\n",
            "CA is similar to Cambria Heights\n",
            "SUFFOLK is similar to Suffolk County\n",
            "SYOSSE is similar to Syosset\n",
            "SYOSSE is similar to syosset\n",
            "SYOSSE is similar to SYOSSET\n"
          ]
        }
      ]
    },
    {
      "cell_type": "code",
      "source": [
        "check_categorical_data(service_requests_dd['Facility Type'].unique().compute())"
      ],
      "metadata": {
        "colab": {
          "base_uri": "https://localhost:8080/"
        },
        "id": "mGg3njMsDZOc",
        "outputId": "28b84edb-54a3-436d-c403-d3877865373f"
      },
      "execution_count": null,
      "outputs": [
        {
          "output_type": "stream",
          "name": "stdout",
          "text": [
            "===CHECKING MIXED CASE VALUES===\n",
            "===CHECKING SUPPORTED NULL VALUES===\n",
            "[None]\n",
            "===CHECKING FOR SIMILAR VALUES===\n"
          ]
        }
      ]
    },
    {
      "cell_type": "code",
      "source": [
        "check_categorical_data(service_requests_dd['Status'].unique().compute())"
      ],
      "metadata": {
        "colab": {
          "base_uri": "https://localhost:8080/"
        },
        "id": "xN8BURXADZRa",
        "outputId": "b0075909-df74-4e88-d835-895b642dc72e"
      },
      "execution_count": null,
      "outputs": [
        {
          "output_type": "stream",
          "name": "stdout",
          "text": [
            "===CHECKING MIXED CASE VALUES===\n",
            "===CHECKING SUPPORTED NULL VALUES===\n",
            "===CHECKING FOR SIMILAR VALUES===\n"
          ]
        }
      ]
    },
    {
      "cell_type": "code",
      "source": [
        "check_categorical_data(service_requests_dd['Community Board'].unique().compute())"
      ],
      "metadata": {
        "colab": {
          "base_uri": "https://localhost:8080/"
        },
        "id": "1eFrjpczDZUR",
        "outputId": "4d14471a-9bbc-4939-f2a0-9a6cd5119e23"
      },
      "execution_count": null,
      "outputs": [
        {
          "output_type": "stream",
          "name": "stdout",
          "text": [
            "===CHECKING MIXED CASE VALUES===\n",
            "===CHECKING SUPPORTED NULL VALUES===\n",
            "[None]\n",
            "===CHECKING FOR SIMILAR VALUES===\n"
          ]
        }
      ]
    },
    {
      "cell_type": "code",
      "source": [
        "check_categorical_data(service_requests_dd['Borough'].unique().compute())"
      ],
      "metadata": {
        "colab": {
          "base_uri": "https://localhost:8080/"
        },
        "id": "iBdH-d2CDZXA",
        "outputId": "4b5ec4c1-3d73-43e6-a7f3-98b354af033a"
      },
      "execution_count": null,
      "outputs": [
        {
          "output_type": "stream",
          "name": "stdout",
          "text": [
            "===CHECKING MIXED CASE VALUES===\n",
            "===CHECKING SUPPORTED NULL VALUES===\n",
            "[None]\n",
            "===CHECKING FOR SIMILAR VALUES===\n"
          ]
        }
      ]
    },
    {
      "cell_type": "code",
      "source": [
        "check_categorical_data(service_requests_dd['Open Data Channel Type'].unique().compute())"
      ],
      "metadata": {
        "colab": {
          "base_uri": "https://localhost:8080/"
        },
        "id": "q1rDqMCrDZZf",
        "outputId": "462b6d0c-59a8-489c-d4db-6394118df63a"
      },
      "execution_count": null,
      "outputs": [
        {
          "output_type": "stream",
          "name": "stdout",
          "text": [
            "===CHECKING MIXED CASE VALUES===\n",
            "===CHECKING SUPPORTED NULL VALUES===\n",
            "===CHECKING FOR SIMILAR VALUES===\n"
          ]
        }
      ]
    },
    {
      "cell_type": "code",
      "source": [
        "check_categorical_data(service_requests_dd['Park Facility Name'].unique().compute())"
      ],
      "metadata": {
        "colab": {
          "base_uri": "https://localhost:8080/"
        },
        "id": "XSLAqY2bDZcJ",
        "outputId": "26a42553-f7e5-4b2c-a1e2-6442255a3569"
      },
      "execution_count": null,
      "outputs": [
        {
          "output_type": "stream",
          "name": "stdout",
          "text": [
            "===CHECKING MIXED CASE VALUES===\n",
            "['Rosalyn Yalow Charter School', 'ROSALYN YALOW CHARTER SCHOOL']\n",
            "['Hellenic Classical Charter School', 'HELLENIC CLASSICAL CHARTER SCHOOL']\n",
            "['Kings Collegiate Charter School', 'KINGS COLLEGIATE CHARTER SCHOOL']\n",
            "['Canarsie Ascend Charter School', 'CANARSIE ASCEND CHARTER SCHOOL']\n",
            "['Harlem Prep Charter School', 'HARLEM PREP CHARTER SCHOOL']\n",
            "['Challenge Preparatory Charter School', 'CHALLENGE PREPARATORY CHARTER SCHOOL']\n",
            "['Global Community Charter School', 'GLOBAL COMMUNITY CHARTER SCHOOL']\n",
            "['PAVE Academy Charter School', 'PAVE ACADEMY CHARTER SCHOOL']\n",
            "['Bronx Charter School for the Arts', 'BRONX CHARTER SCHOOL FOR THE ARTS']\n",
            "['VOICE Charter School of New York', 'VOICE CHARTER SCHOOL OF NEW YORK']\n",
            "['South Bronx Classical Charter School', 'SOUTH BRONX CLASSICAL CHARTER SCHOOL']\n",
            "['Brilla Veritas Charter School', 'BRILLA VERITAS CHARTER SCHOOL']\n",
            "===CHECKING SUPPORTED NULL VALUES===\n",
            "[None]\n",
            "===CHECKING FOR SIMILAR VALUES===\n",
            "Central Park is similar to CENTRAL PARK PRECINCT\n",
            "Central Park is similar to Central Park Zoo\n",
            "Central Park is similar to Central Park East II\n",
            "Sunset Park is similar to Sunset Park Prep\n",
            "Sunset Park is similar to Sunset Park Pool\n",
            "Sunset Park is similar to Sunset Park Recreation Center\n",
            "Sunset Park is similar to Sunset Park High School\n",
            "Sunset Park is similar to Sunset Park - Brooklyn Public Library\n",
            "Sunset Park is similar to Sunset Park Avenues Elementary School\n",
            "Flushing Meadows Corona Park is similar to Flushing Meadows Corona Park Pool & Rink\n",
            "Riverside Park is similar to Riverside Park South\n",
            "Lindower Park is similar to Lindower Park Mini Pool\n",
            "Rockaway Beach is similar to Rockaway Beach Boardwalk\n",
            "Rockaway Beach is similar to Rockaway Beach and Boardwalk\n",
            "Bronx Park is similar to Bronx Park Middle School\n",
            "Crotona Park is similar to Crotona Parkway Malls\n",
            "Brower Park is similar to Brower Park - Brooklyn Public Library\n",
            "Astoria Park is similar to Astoria Park Pool\n",
            "Jackie Robinson Park is similar to Jackie Robinson Park Playground\n",
            "Willowbrook Park is similar to Willowbrook Parkway\n",
            "Henry Hudson Park is similar to Henry Hudson Parkway\n",
            "Williamsbridge Oval is similar to Williamsbridge Oval Recreation Center\n",
            "Jerome Playground is similar to Jerome Playground South\n",
            "P.S. 196 is similar to P.S. 196 Grand Central Parkway\n",
            "P.S. 196 is similar to P.S. 196 Ten Eyck\n",
            "P.S. 195 is similar to P.S. 195 William Haberle\n",
            "P.S. 195 is similar to P.S. 195 Manhattan Beach\n",
            "James Weldon Johnson is similar to James Weldon Johnson Playground\n",
            "Springfield Park is similar to Springfield Park North\n",
            "Washington Park is similar to Washington Park (Brooklyn)\n",
            "Washington Park is similar to Washington Park (Bronx)\n",
            "St. Mary's Park is similar to St. Mary's Park (Bronx)\n",
            "P.S. 207 is similar to P.S. 207 Elizabeth G. Leary\n",
            "P.S. 207 is similar to P.S. 207 Rockwood Park\n",
            "P.S. 035 is similar to P.S. 035 Nathaniel Woodhull\n",
            "South Bronx Classical Charter School is similar to South Bronx Classical Charter School II\n",
            "Hellenic Classical Charter School is similar to Hellenic Classical Charter School - Staten Island\n",
            "Clinton Community Garden is similar to Clinton Community Garden (LES)\n",
            "Renaissance Charter School is similar to RENAISSANCE CHARTER SCHOOL 2 (THE)\n",
            "Ocean Breeze Park is similar to Ocean Breeze Park Track & Field Athletic Complex\n",
            "Frederick Douglass Academy is similar to Frederick Douglass Academy VII High School\n",
            "Frederick Douglass Academy is similar to Frederick Douglass Academy V. Middle School\n",
            "Mall is similar to Mall Forty Two XLII\n",
            "P.S. 209 is similar to P.S. 209 Margaret Mead\n",
            "P.S. 209 is similar to P.S. 209 Clearview Gardens\n",
            "Spring Creek Park is similar to Spring Creek Park Addition\n",
            "P.S. 306 is similar to P.S. 306 Ethan Allen\n",
            "Harding Park is similar to Harding Park Beautification Project\n",
            "Classon Playground is similar to Classon Playground (JOP)\n",
            "Clearview Park is similar to Clearview Park Golf Course\n",
            "Lafayette Playground is similar to Lafayette Playground (JOP)\n",
            "P.S. 130 is similar to P.S. 130 Hernando De Soto\n",
            "HELLENIC CLASSICAL CHARTER SCHOOL is similar to Hellenic Classical Charter School - Staten Island\n",
            "Brooklyn Prospect Charter School is similar to Brooklyn Prospect Charter School Downtown\n",
            "ACHIEVEMENT FIRST CROWN HEIGHTS is similar to Achievement First Crown Heights Charter School\n",
            "FAMILY LIFE ACADEMY CHARTER is similar to Family Life Academy Charter School\n",
            "P.S. 109 is similar to P.S. 109 Sedgwick\n",
            "HEBREW LANGUAGE ACADEMY CHARTER is similar to HEBREW LANGUAGE ACADEMY CHARTER 2\n",
            "CARDINAL MCCLOSKEY COMMUNITY CHARTER is similar to Cardinal McCloskey Community Charter School\n",
            "ROCHDALE EARLY ADVANTAGE CHARTER SCH is similar to Rochdale Early Advantage Charter School\n",
            "ACHIEVEMENT FIRST LINDEN CHARTER SCH is similar to Achievement First Linden Charter School\n",
            "P.S. 179 is similar to P.S. 179 Kensington\n",
            "BRILLA COLLEGE PREP CHARTER is similar to Brilla College Prep Charter School\n",
            "Eastern Parkway is similar to Eastern Parkway Coalition\n",
            "Playground One is similar to Playground One Twenty Five CXXV\n",
            "Playground One is similar to Playground One Thirty Four CXXXIV\n",
            "Playground One is similar to Playground One Forty\n",
            "Park is similar to Park Of The Americas\n",
            "Park is similar to Park Slope Playground\n",
            "Park is similar to Park Avenue Malls\n",
            "Park is similar to Parkside Playground\n",
            "Park is similar to Parkside Preparatory Academy\n",
            "Park is similar to Park at Beach 108 Street\n",
            "Park is similar to Park Slope Collegiate\n",
            "BROOKLYN EAST COLLEGIATE CHARTER SCH is similar to Brooklyn East Collegiate Charter School\n",
            "SOUTH BRONX CLASSICAL CHARTER SCHOOL is similar to South Bronx Classical Charter School II\n"
          ]
        }
      ]
    },
    {
      "cell_type": "code",
      "source": [
        "check_categorical_data(service_requests_dd['Park Borough'].unique().compute())"
      ],
      "metadata": {
        "colab": {
          "base_uri": "https://localhost:8080/"
        },
        "id": "XSCdOT1fDZfO",
        "outputId": "0a07df20-8e3d-41c5-b326-0b9d38647eae"
      },
      "execution_count": null,
      "outputs": [
        {
          "output_type": "stream",
          "name": "stdout",
          "text": [
            "===CHECKING MIXED CASE VALUES===\n",
            "===CHECKING SUPPORTED NULL VALUES===\n",
            "[None]\n",
            "===CHECKING FOR SIMILAR VALUES===\n"
          ]
        }
      ]
    },
    {
      "cell_type": "code",
      "source": [
        "check_categorical_data(service_requests_dd['Vehicle Type'].unique().compute())"
      ],
      "metadata": {
        "colab": {
          "base_uri": "https://localhost:8080/"
        },
        "id": "LsaDB7pBDZiM",
        "outputId": "b2832526-64c8-44b4-9af0-877268302154"
      },
      "execution_count": null,
      "outputs": [
        {
          "output_type": "stream",
          "name": "stdout",
          "text": [
            "===CHECKING MIXED CASE VALUES===\n",
            "===CHECKING SUPPORTED NULL VALUES===\n",
            "[None]\n",
            "===CHECKING FOR SIMILAR VALUES===\n",
            "Car is similar to Car Service\n"
          ]
        }
      ]
    }
  ]
}